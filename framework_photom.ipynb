{
 "cells": [
  {
   "cell_type": "code",
   "execution_count": null,
   "metadata": {},
   "outputs": [],
   "source": [
    "import pandas as pd\n",
    "import matplotlib.pyplot as plt\n",
    "import numpy as np\n",
    "import os\n",
    "import seaborn as sns\n",
    "import math\n",
    "import plotly.express as px\n",
    "import plotly.graph_objects as go\n",
    "from itertools import combinations\n",
    "import copy\n",
    "import pickle\n",
    "import gc\n",
    "\n",
    "from scipy.ndimage import gaussian_filter1d\n",
    "from scipy.signal import butter, filtfilt\n",
    "from scipy.stats import linregress\n",
    "\n",
    "from sklearn.linear_model import LogisticRegression\n",
    "from sklearn.metrics import classification_report, confusion_matrix\n",
    "\n",
    "#These lines allow us to import functions from my python func with helper functions\n",
    "import sys\n",
    "\n",
    "sys.path.insert(0, '/Users/charliehuang/Documents/Photometry_pipeline/data_analysis_helperfuncs')\n",
    "import behav_datanal as bd\n",
    "import statistics_helper as sh\n",
    "import metric_helper as mh\n",
    "import metrics_util as mu\n",
    "import preprocess_helper as pph\n",
    "\n",
    "%load_ext autoreload\n",
    "\n",
    "%autoreload 2\n",
    "import importlib\n",
    "importlib.reload(bd)\n",
    "%config IPCompleter.greedy=True"
   ]
  },
  {
   "cell_type": "code",
   "execution_count": null,
   "metadata": {},
   "outputs": [],
   "source": [
    "# Wheel parameters\n",
    "w_BACK_WINDOW = 500\n",
    "w_PRE_MOVE_WINDOW = 70\n",
    "w_FORWARD_WINDOW = 500\n",
    "\n",
    "# Manip parameters\n",
    "m_BACK_WINDOW = 1000\n",
    "m_PRE_MOVE_WINDOW = 140\n",
    "m_FORWARD_WINDOW = 1000\n",
    "\n",
    "p_BACK_WINDOW = 150\n",
    "p_FORWARD_WINDOW = 150\n",
    "p_PRE_MOVE_WINDOW = 21\n",
    "\n",
    "# change this to your path\n",
    "datapath = '/Users/charliehuang/Documents/python_work/data/Photometry'\n",
    "manip_folder = '/Photometry_Manipulandum'\n",
    "\n",
    "photom_addon = '_2C3T4B'\n",
    "fluor_folder = '/Photometry_Fluorescence'\n",
    "\n",
    "arduino_folder = '/Photometry_Wheel'\n",
    "radians_folder = '/radians'\n",
    "dlc_folder = '/DLC'\n",
    "rename_dic = {'A':'G', 'B':'H', 'C':'I', 'D':'J', 'E':'K'}\n",
    "output_path = datapath + '/Outputs'\n",
    "pkl_folder = '/Pickles'\n",
    "wheel_pkl = pkl_folder + '/Wheel_BigRun_Pickle'\n",
    "manip_pkl = pkl_folder + '/Manip_BigRun_Pickle'\n",
    "\n",
    "blacklist = ['RR20240320_J-2024_04_26']\n",
    "\n",
    "manip_param_dic = {'lowpass_threshold': 2, 'lowpass_threshold_2': None, 'norm_window': [90,120], 'name':  '2_minus1'}\n",
    "wheel_param_dic = {'lowpass_threshold': 2, 'lowpass_threshold_2': None, 'norm_window': [90,120], 'name':  '2_minus1_alt'}\n",
    "\n",
    "def full_mouse_name(mouse_ID):\n",
    "    if mouse_ID in ['G','H','I','J','K']:\n",
    "        return 'RR20240320_' + mouse_ID\n",
    "    elif mouse_ID == 'F':\n",
    "        return 'RR20231109_'+mouse_ID\n",
    "    else:\n",
    "        return 'RR20231108_'+mouse_ID"
   ]
  },
  {
   "cell_type": "markdown",
   "metadata": {},
   "source": [
    "# Sess cage class"
   ]
  },
  {
   "cell_type": "code",
   "execution_count": null,
   "metadata": {},
   "outputs": [],
   "source": [
    "class sessions_cage:\n",
    "    def __init__(self):\n",
    "        self.sessions = {}\n",
    "    def add_sess(self, key, session):\n",
    "        self.sessions[key] = session\n",
    "    def show_sessions(self):\n",
    "        print(self.sessions.keys())\n",
    "    \n",
    "def load_pickle_file(pkl_file, path):\n",
    "    print(path+pkl_file)\n",
    "    with open(path+pkl_file, 'rb') as f:\n",
    "        loaded_session = pickle.load(f) # deserialize using load()\n",
    "    f.close()\n",
    "    return loaded_session\n",
    "            \n",
    "def serialize_sess_cage(folder, cage):\n",
    "    for sessname in cage.sessions.keys():\n",
    "        session = cage.sessions[sessname]\n",
    "        fname = '/'+sessname+'.pkl'\n",
    "        print(fname)\n",
    "        with open(folder+fname, 'wb') as f:  # open a text file\n",
    "            pickle.dump(session, f) # serialize the list\n",
    "        f.close()"
   ]
  },
  {
   "cell_type": "markdown",
   "metadata": {},
   "source": [
    "# (0.0) Save compressed version wheel/manip sess_cage (Don't run if already have compressed cages)"
   ]
  },
  {
   "cell_type": "markdown",
   "metadata": {},
   "source": [
    "## Load WHEEL sess cage (don't load both wheel and manip cages at a time)"
   ]
  },
  {
   "cell_type": "code",
   "execution_count": null,
   "metadata": {},
   "outputs": [],
   "source": [
    "wheel_sess_cage = sessions_cage()\n",
    "for file in os.listdir(datapath + wheel_pkl):\n",
    "    if file.startswith('.'):\n",
    "        continue\n",
    "    key = file.split('.')[0]\n",
    "    obj = load_pickle_file('/' + file, datapath + wheel_pkl)\n",
    "    wheel_sess_cage.add_sess(key, obj)\n",
    "w_ordered_sessions = list(wheel_sess_cage.sessions.keys())\n",
    "w_ordered_sessions.sort()"
   ]
  },
  {
   "cell_type": "markdown",
   "metadata": {},
   "source": [
    "## Load MANIP sess cage (don't load both manip and wheel)"
   ]
  },
  {
   "cell_type": "code",
   "execution_count": null,
   "metadata": {},
   "outputs": [],
   "source": [
    "manip_sess_cage = sessions_cage()\n",
    "for file in os.listdir(datapath + manip_pkl):\n",
    "    if file.startswith('.'):\n",
    "        continue\n",
    "    key = file.split('.')[0]\n",
    "    obj = load_pickle_file('/' + file, datapath + manip_pkl)\n",
    "    manip_sess_cage.add_sess(key, obj)\n",
    "m_ordered_sessions = list(manip_sess_cage.sessions.keys())\n",
    "m_ordered_sessions.sort()"
   ]
  },
  {
   "cell_type": "markdown",
   "metadata": {},
   "source": [
    "## COMPRESS CAGE OF CHOICE"
   ]
  },
  {
   "cell_type": "code",
   "execution_count": null,
   "metadata": {},
   "outputs": [],
   "source": [
    "class compressed_sessions_cage:\n",
    "    def __init__(self):\n",
    "        self.sessions = {}\n",
    "    def add_sess(self, key, session):\n",
    "        self.sessions[key] = session\n",
    "    def show_sessions(self):\n",
    "        print(self.sessions.keys())\n",
    "        \n",
    "# Keeping: photom_df, some cube_dic, outlier_trials, photom_trials_used, cube_dic_keys, dlc_file, rad_file\n",
    "# from daydic: keeping everything except for radians_df, and combin_df\n",
    "\n",
    "def gen_compressed_cage(sess_cage, session_list, mode='wheel'):\n",
    "    comp_sess_cage = compressed_sessions_cage()\n",
    "    if mode == 'manip':\n",
    "        cube_dic_name = 'cube_dic_lowp_2_minus1'\n",
    "        keys_keep = ['photom_df', cube_dic_name, 'outlier_trials', 'photom_trials_used', 'cube_dic_keys', 'manip_file']\n",
    "        day_dic_keys_keep = ['manip_data', 'metadata', 'col_dic', 'og_waves', 'og_summary', 'behav_mat', 'og_wcube_all', 'og_manip_dist', 'og_endpoints', 'waves', 'wcube_all', 'wave_dic', 'manip_dist', 'endpoints']\n",
    "    elif mode == 'wheel':\n",
    "        cube_dic_name = 'cube_dic_lowp_2_minus1_alt'\n",
    "        keys_keep = ['photom_df', cube_dic_name, 'outlier_trials', 'photom_trials_used', 'cube_dic_keys', 'dlc_file', 'rad_file']\n",
    "        day_dic_keys_keep = ['waves','wcube_all','wave_dic','trial_defs','wheel_trans','stride_stance_dic','hand_peaks_troughs','foot_peaks_troughs','og_waves','og_wcube_all']\n",
    "    for sessname in session_list:\n",
    "        if sessname in blacklist:\n",
    "            continue\n",
    "        session = sess_cage.sessions[sessname]\n",
    "        day_dic = session['day_dic']\n",
    "        day_dic_keep = dict((k, day_dic[k]) for k in day_dic_keys_keep)\n",
    "        session_keep = dict((k, session[k]) for k in keys_keep)\n",
    "        session_keep.update({'day_dic':day_dic_keep})\n",
    "        comp_sess_cage.add_sess(sessname, session_keep)\n",
    "    return comp_sess_cage"
   ]
  },
  {
   "cell_type": "markdown",
   "metadata": {},
   "source": [
    "## Compress and serialize wheel cage"
   ]
  },
  {
   "cell_type": "code",
   "execution_count": null,
   "metadata": {},
   "outputs": [],
   "source": [
    "compressed_wheel_cage = gen_compressed_cage(wheel_sess_cage, w_ordered_sessions, mode='wheel')\n",
    "compressed_wheel_pkl_folder = datapath + pkl_folder + '/Compressed_Wheel'\n",
    "serialize_sess_cage(compressed_wheel_pkl_folder, compressed_wheel_cage)"
   ]
  },
  {
   "cell_type": "markdown",
   "metadata": {},
   "source": [
    "## Compress and serialize manip cage"
   ]
  },
  {
   "cell_type": "code",
   "execution_count": null,
   "metadata": {},
   "outputs": [],
   "source": [
    "compressed_manip_cage = gen_compressed_cage(manip_sess_cage, m_ordered_sessions, mode='manip')\n",
    "compressed_manip_pkl_folder = datapath + pkl_folder + '/Compressed_Manip'\n",
    "serialize_sess_cage(compressed_manip_pkl_folder, compressed_manip_cage)"
   ]
  },
  {
   "cell_type": "markdown",
   "metadata": {},
   "source": [
    "# (1.0) Load in Compressed Sess cages (Start here if already have compressed cages)"
   ]
  },
  {
   "cell_type": "code",
   "execution_count": null,
   "metadata": {},
   "outputs": [],
   "source": [
    "print(pkl_folder)\n",
    "manip_pkl_comp = pkl_folder + '/Compressed_Manip'\n",
    "wheel_pkl_comp = pkl_folder + '/Compressed_Wheel'"
   ]
  },
  {
   "cell_type": "code",
   "execution_count": null,
   "metadata": {},
   "outputs": [],
   "source": [
    "#load in manip compressed cage\n",
    "compressed_manip_cage = sessions_cage()\n",
    "for file in os.listdir(datapath + manip_pkl_comp):\n",
    "    if file.startswith('.'):\n",
    "        continue\n",
    "    key = file.split('.')[0]\n",
    "    obj = load_pickle_file('/' + file, datapath + manip_pkl_comp)\n",
    "    compressed_manip_cage.add_sess(key, obj)\n",
    "m_ordered_sessions = list(compressed_manip_cage.sessions.keys())\n",
    "m_ordered_sessions.sort()"
   ]
  },
  {
   "cell_type": "code",
   "execution_count": null,
   "metadata": {},
   "outputs": [],
   "source": [
    "# Sessions list for trial type (wheel)\n",
    "# We use these specific list for trial-specific parsing\n",
    "# ie: doing linear regression only on rewarded trials\n",
    "\n",
    "m_ordered_sessions_rew = []\n",
    "m_ordered_sessions_unrew = []\n",
    "for sessname in m_ordered_sessions:\n",
    "    day_dic = compressed_manip_cage.sessions[sessname]['day_dic']\n",
    "    if len(day_dic['wave_dic']['rewarded']) != 0:\n",
    "        m_ordered_sessions_rew.append(sessname)\n",
    "    if len(day_dic['wave_dic']['unrewarded']) != 0:\n",
    "        m_ordered_sessions_unrew.append(sessname)"
   ]
  },
  {
   "cell_type": "code",
   "execution_count": null,
   "metadata": {},
   "outputs": [],
   "source": [
    "#load in wheel comp cage\n",
    "compressed_wheel_cage = sessions_cage()\n",
    "for file in os.listdir(datapath + wheel_pkl_comp):\n",
    "    if file.startswith('.'):\n",
    "        continue\n",
    "    key = file.split('.')[0]\n",
    "    obj = load_pickle_file('/' + file, datapath + wheel_pkl_comp)\n",
    "    compressed_wheel_cage.add_sess(key, obj)\n",
    "    \n",
    "# All sessions for wheel\n",
    "\n",
    "w_ordered_sessions = list(compressed_wheel_cage.sessions.keys())\n",
    "w_ordered_sessions.sort()"
   ]
  },
  {
   "cell_type": "code",
   "execution_count": null,
   "metadata": {},
   "outputs": [],
   "source": [
    "# Sessions list for trial type (wheel) (parsing good vs bad trials)\n",
    "w_ordered_sessions_good = []\n",
    "w_ordered_sessions_bad = []\n",
    "for sessname in w_ordered_sessions:\n",
    "    day_dic = compressed_wheel_cage.sessions[sessname]['day_dic']\n",
    "    if len(day_dic['wave_dic']['good']) != 0:\n",
    "        w_ordered_sessions_good.append(sessname)\n",
    "    if len(day_dic['wave_dic']['bad']) != 0:\n",
    "        w_ordered_sessions_bad.append(sessname)"
   ]
  },
  {
   "cell_type": "markdown",
   "metadata": {},
   "source": [
    "# (2.0) Groups Dics (maps time zone -> list of session names)"
   ]
  },
  {
   "cell_type": "code",
   "execution_count": null,
   "metadata": {},
   "outputs": [],
   "source": [
    "abcdf_ez_erly = ['2024_02_05', '2024_02_06'] #f exception\n",
    "abcdf_ez_late = ['2024_02_08', '2024_02_09']\n",
    "abcdf_hd_erly = ['2024_02_12', '2024_02_13']\n",
    "abcdf_hd_late = ['2024_02_15', '2024_02_16']\n",
    "abcdf_time_list = [abcdf_ez_erly,abcdf_ez_late,abcdf_hd_erly,abcdf_hd_late]\n",
    "\n",
    "ghijk_ez_erly = ['2024_04_29', '2024_04_30']\n",
    "ghijk_ez_late = ['2024_05_02', '2024_05_03']\n",
    "ghijk_hd_erly = ['2024_05_06', '2024_05_07']\n",
    "ghijk_hd_late = ['2024_05_09', '2024_05_10']\n",
    "ghijk_time_list = [ghijk_ez_erly,ghijk_ez_late,ghijk_hd_erly,ghijk_hd_late]\n",
    "\n",
    "exceptions_dic = {'F_ez_erly': ['2024_02_05', '2024_02_07'], 'K_ez_erly': ['2024_04_30', '2024_05_01'], 'K_hd_late': ['2024_05_09', '2024_05_11']}\n",
    "\n",
    "wheel_groups_dic = {'ez_erly': [], 'ez_late': [], 'hd_erly':[], 'hd_late':[]}\n",
    "for i, timezone in enumerate(list(wheel_groups_dic.keys())):\n",
    "    for mouse_ID in ['A','B','C','D','F','G','H','I','J','K']:\n",
    "        mouse_name = full_mouse_name(mouse_ID)\n",
    "        if mouse_ID + '_' + timezone in exceptions_dic.keys():\n",
    "            days = exceptions_dic[mouse_ID + '_' + timezone]\n",
    "            sessnames = [mouse_name + '-' + date for date in days]\n",
    "            wheel_groups_dic[timezone] += sessnames\n",
    "        else:\n",
    "            if mouse_ID in ['A','B','C','D','F']:\n",
    "                days = abcdf_time_list[i]\n",
    "            else:\n",
    "                days = ghijk_time_list[i]\n",
    "            sessnames = [mouse_name + '-' + date for date in days]\n",
    "            wheel_groups_dic[timezone] += sessnames"
   ]
  },
  {
   "cell_type": "code",
   "execution_count": null,
   "metadata": {},
   "outputs": [],
   "source": [
    "ghikj_early_days = ['2024_04_15','2024_04_16','2024_04_17']\n",
    "ghikj_mid_days = ['2024_04_19','2024_04_22']\n",
    "ghik_late_days = ['2024_04_24','2024_04_25','2024_04_26']\n",
    "j_late_days = ['2024_04_23','2024_04_24','2024_04_25']\n",
    "\n",
    "abcd_early_days = ['2023_12_05','2023_12_07','2023_12_08']\n",
    "f_early_days = ['2024_01_15','2024_01_16','2024_01_17']\n",
    "abcd_late_days = ['2023_12_13','2023_12_14','2023_12_15']\n",
    "f_late_days = ['2024_01_24','2024_01_25','2024_01_26']\n",
    "f_mid_days = ['2024_01_19','2024_01_22']\n",
    "\n",
    "early_sessions, late_sessions, mid_sessions = [],[],[]\n",
    "for ses in m_ordered_sessions:\n",
    "    date = ses.split('-')[1]\n",
    "    mouse_ID = ses.split('-')[0][-1] \n",
    "    \n",
    "    if date in abcd_early_days or date in f_early_days or date in ghikj_early_days:\n",
    "        early_sessions.append(ses)\n",
    "    elif date in abcd_late_days or date in f_late_days:\n",
    "        late_sessions.append(ses)\n",
    "    elif mouse_ID == 'J' and date in j_late_days:\n",
    "        late_sessions.append(ses)\n",
    "    elif mouse_ID != 'J' and date in ghik_late_days:\n",
    "        late_sessions.append(ses)\n",
    "    else:\n",
    "        if mouse_ID in ['G','H','I','K','J'] and date in ghikj_mid_days:\n",
    "            mid_sessions.append(ses)\n",
    "        elif mouse_ID == 'F' and date in f_mid_days:\n",
    "            mid_sessions.append(ses)\n",
    "        elif mouse_ID not in ['G','H','I','K','J','F']:\n",
    "            mid_sessions.append(ses)\n",
    "\n",
    "manip_groups_dic = {'early':early_sessions, 'mid': mid_sessions, 'late': late_sessions}"
   ]
  },
  {
   "cell_type": "markdown",
   "metadata": {},
   "source": [
    "# (3.0) Linear Regression Pipeline"
   ]
  },
  {
   "cell_type": "code",
   "execution_count": null,
   "metadata": {},
   "outputs": [],
   "source": [
    "startpoint = p_BACK_WINDOW - 30 #1 second back\n",
    "endpoint = p_BACK_WINDOW + 60 #2 seconds forward\n",
    "\n",
    "\"\"\"\n",
    "EXPLAINER: So here we are calling a wrapper function that will help generate a dictionary. This dictionary\n",
    "maps session name to a sub-dictionary containing metric values (ie: linear regression R^2 and single reg regression R^2)\n",
    "\n",
    "In these dictionary-generating functions (which are all stored in metric_util.py), we supply:\n",
    "1. the param_dic we used to generate \n",
    "the respective manip cage (ie: manip_param_dic for compressed_manip_cage) \n",
    "2. the list of sessions we care about (for generating dictionary - just supply the ordered_sessions not a subset cuz you can specify \n",
    "a subset for plotting/comparison later)\n",
    "3. and the cage\n",
    "4. There are also important parameters like: photom_cube_type ('default', 'rew', 'control'). Note that if the cage you supply in IS already\n",
    "a cage full of only randomized cubes, just keep photom_cube_type as default. These key words are for accessing different cube_dics that \n",
    "are already stored inside of the cage (so they were generated during bigrun)\n",
    "5. keep save_flag as False. If you do want to turn them on, look through the code and make sure you specify a proper path for saving to occur\n",
    "\n",
    "\"\"\"\n",
    "reg_dic_manip = mu.regression_wrapper(startpoint, endpoint, manip_param_dic, m_ordered_sessions, compressed_manip_cage, \n",
    "                                      stpt_label='', plot=False, save_flag=False, \n",
    "                                      photom_cube_type='default')\n",
    "reg_dic_wheel = mu.regression_wrapper(startpoint, endpoint, wheel_param_dic, w_ordered_sessions, compressed_wheel_cage,\n",
    "                                      stpt_label='', plot=False, save_flag=False, \n",
    "                                      photom_cube_type='default')"
   ]
  },
  {
   "cell_type": "code",
   "execution_count": null,
   "metadata": {},
   "outputs": [],
   "source": [
    "# note that I use a diff ordered sessions list here\n",
    "reg_dic_manip_rew = mu.regression_wrapper(startpoint, endpoint, manip_param_dic, m_ordered_sessions_rew, compressed_manip_cage, \n",
    "                                      stpt_label='', plot=False, save_flag=False, \n",
    "                                      photom_cube_type='rew')"
   ]
  },
  {
   "cell_type": "code",
   "execution_count": null,
   "metadata": {},
   "outputs": [],
   "source": [
    "# tigher bounds around 0\n",
    "\n",
    "reg_dic_manip_tight = mu.regression_wrapper(p_BACK_WINDOW-10, p_BACK_WINDOW+20, manip_param_dic, m_ordered_sessions, compressed_manip_cage, \n",
    "                                      stpt_label='', plot=False, save_flag=False, \n",
    "                                      photom_cube_type='default')\n",
    "reg_dic_manip_rew_tight = mu.regression_wrapper(p_BACK_WINDOW-10, p_BACK_WINDOW+20, manip_param_dic, m_ordered_sessions_rew, compressed_manip_cage, \n",
    "                                      stpt_label='', plot=False, save_flag=False, \n",
    "                                      photom_cube_type='rew')"
   ]
  },
  {
   "cell_type": "markdown",
   "metadata": {},
   "source": [
    "### Declaring random cubes"
   ]
  },
  {
   "cell_type": "code",
   "execution_count": null,
   "metadata": {},
   "outputs": [],
   "source": [
    "#These are not for bootstrapping, but just for barcharts + t tests \n",
    "\n",
    "\"\"\"\n",
    "NOTE IMPORTANT REFERENCE ON RANDOM CUES\n",
    "\n",
    "# RC1: random initiation points\n",
    "# RC2: trial scrambling\n",
    "# RC3: trial shifting\n",
    "# RC4 (1+2): random initiation points + trial scrambling\n",
    "# RC5 (1+3): random initiation points + trial shifting\n",
    "\n",
    "\"\"\"\n",
    "\n",
    "# RC1: random initiation points\n",
    "\n",
    "reg_dic_manip_rc1 = mu.regression_wrapper(startpoint, endpoint, manip_param_dic, m_ordered_sessions, compressed_manip_cage, \n",
    "                                      stpt_label='', plot=False, save_flag=False, \n",
    "                                      photom_cube_type='control')\n",
    "reg_dic_wheel_rc1 = mu.regression_wrapper(startpoint, endpoint, wheel_param_dic, w_ordered_sessions, compressed_wheel_cage,\n",
    "                                      stpt_label='', plot=False, save_flag=False, \n",
    "                                      photom_cube_type='control')\n",
    "\n",
    "# RC2: trial scrambling\n",
    "\n",
    "reg_dic_manip_rc2 = mu.regression_wrapper(startpoint, endpoint, manip_param_dic, m_ordered_sessions, compressed_manip_cage, \n",
    "                                      stpt_label='', plot=False, save_flag=False, \n",
    "                                      photom_cube_type='default', shuffle_trials=True)\n",
    "\n",
    "reg_dic_wheel_rc2 = mu.regression_wrapper(startpoint, endpoint, wheel_param_dic, w_ordered_sessions, compressed_wheel_cage,\n",
    "                                      stpt_label='', plot=False, save_flag=False, \n",
    "                                      photom_cube_type='default', shuffle_trials=True)\n",
    "\n",
    "# RC3: trial shifting (random adjusts = True)\n",
    "\n",
    "reg_dic_manip_rc3 = mu.regression_wrapper(startpoint, endpoint, manip_param_dic, m_ordered_sessions, compressed_manip_cage, \n",
    "                                      stpt_label='', plot=False, save_flag=False, \n",
    "                                      photom_cube_type='default', random_adjusts=True)\n",
    "\n",
    "reg_dic_wheel_rc3 = mu.regression_wrapper(startpoint, endpoint, wheel_param_dic, w_ordered_sessions, compressed_wheel_cage,\n",
    "                                      stpt_label='', plot=False, save_flag=False, \n",
    "                                      photom_cube_type='default', random_adjusts=True)\n",
    "\n",
    "# RC4 (1+2): random initiation points + trial scrambling\n",
    "\n",
    "reg_dic_manip_rc4 = mu.regression_wrapper(startpoint, endpoint, manip_param_dic, m_ordered_sessions, compressed_manip_cage, \n",
    "                                      stpt_label='', plot=False, save_flag=False, \n",
    "                                      photom_cube_type='control', shuffle_trials=True)\n",
    "reg_dic_wheel_rc4 = mu.regression_wrapper(startpoint, endpoint, wheel_param_dic, w_ordered_sessions, compressed_wheel_cage,\n",
    "                                      stpt_label='', plot=False, save_flag=False, \n",
    "                                      photom_cube_type='control', shuffle_trials=True)\n",
    "\n",
    "# RC5 (1+3): random initiation points + trial shifting\n",
    "\n",
    "reg_dic_manip_rc5 = mu.regression_wrapper(startpoint, endpoint, manip_param_dic, m_ordered_sessions, compressed_manip_cage, \n",
    "                                      stpt_label='', plot=False, save_flag=False, \n",
    "                                      photom_cube_type='control', random_adjusts=True)\n",
    "reg_dic_wheel_rc5 = mu.regression_wrapper(startpoint, endpoint, wheel_param_dic, w_ordered_sessions, compressed_wheel_cage,\n",
    "                                      stpt_label='', plot=False, save_flag=False, \n",
    "                                      photom_cube_type='control', random_adjusts=True)"
   ]
  },
  {
   "cell_type": "markdown",
   "metadata": {},
   "source": [
    "## Grouping and plotting: R^2"
   ]
  },
  {
   "cell_type": "markdown",
   "metadata": {},
   "source": [
    "### Cross behavior"
   ]
  },
  {
   "cell_type": "code",
   "execution_count": null,
   "metadata": {},
   "outputs": [],
   "source": [
    "\"\"\"\n",
    "EXPLAINER: \n",
    "Once you have the metric dictionary that is desired (your paramters being trial type, behavior, type of cube (movement, reward, random), other\n",
    "metric related hyperparameters ie: start and endpoint) now we parse through these dictionaries and group session averages by mice (via \n",
    "mh.generate_groups_vector -- the groups correspond to the mice). Then we get mice averages (via mh.means_per_group).\n",
    "\n",
    "Finally, we use metric_helper's plot_barchart. Note that I have no automation on the title and labels, so that is something you need to \n",
    "mindfully change. Also note that you CAN select which mice you compare in plot_barchart (which also computes a two sample paired t test)\n",
    "\n",
    "\n",
    "\n",
    "\"\"\"\n",
    "\n",
    "\n",
    "mouse_IDs, group1 = mh.generate_groups_vector(m_ordered_sessions, reg_dic_manip, key='lr_r2_scores')\n",
    "group_manip_lr_r2 = mh.means_per_group(group1)\n",
    "mouse_IDs, group2 = mh.generate_groups_vector(w_ordered_sessions, reg_dic_wheel, key='lr_r2_scores')\n",
    "group_wheel_lr_r2 = mh.means_per_group(group2)\n",
    "mh.plot_barchart(group_manip_lr_r2, group_wheel_lr_r2, ['manip','wheel'], title='Manip vs Wheel (-30->+60) LR r^2', \n",
    "                 label=['A', 'B', 'C', 'D', 'F', 'G', 'H', 'I', 'J', 'K'], ylim=[0,1])\n",
    "\n",
    "#group_manip_lr_r2, group_wheel_lr_r2"
   ]
  },
  {
   "cell_type": "code",
   "execution_count": null,
   "metadata": {},
   "outputs": [],
   "source": [
    "mouse_IDs, group1 = mh.generate_groups_vector(manip_groups_dic['early'], reg_dic_manip, key='lr_r2_scores')\n",
    "group1 = mh.means_per_group(group1)\n",
    "mouse_IDs, group2 = mh.generate_groups_vector(wheel_groups_dic['ez_erly'], reg_dic_wheel, key='lr_r2_scores')\n",
    "group2 = mh.means_per_group(group2)\n",
    "mh.plot_barchart(group1, group2, ['manip','wheel'], title='Manip vs Wheel (-30->+60) LR r^2, Early vs EZ early, ', \n",
    "                 label=['A', 'B', 'C', 'D', 'F', 'G', 'H', 'I', 'J', 'K'], ylim=[0,1])"
   ]
  },
  {
   "cell_type": "code",
   "execution_count": null,
   "metadata": {},
   "outputs": [],
   "source": [
    "mouse_IDs, group1 = mh.generate_groups_vector(manip_groups_dic['late'], reg_dic_manip, key='lr_r2_scores')\n",
    "group1 = mh.means_per_group(group1)\n",
    "mouse_IDs, group2 = mh.generate_groups_vector(wheel_groups_dic['ez_late'], reg_dic_wheel, key='lr_r2_scores')\n",
    "group2 = mh.means_per_group(group2)\n",
    "mh.plot_barchart(group1, group2, ['manip','wheel'], title='Manip vs Wheel (-30->+60) LR r^2, Late vs EZ Late, '\n",
    "                 , label=['A', 'B', 'C', 'D', 'F', 'G', 'H', 'I', 'J', 'K'], ylim = [0,1])"
   ]
  },
  {
   "cell_type": "markdown",
   "metadata": {},
   "source": [
    "### movement init vs rew"
   ]
  },
  {
   "cell_type": "code",
   "execution_count": null,
   "metadata": {},
   "outputs": [],
   "source": [
    "\n",
    "mouse_IDs, group1 = mh.generate_groups_vector(m_ordered_sessions, reg_dic_manip, key='lr_r2_scores')\n",
    "group1 = mh.means_per_group(group1)\n",
    "mouse_IDs, group2 = mh.generate_groups_vector(m_ordered_sessions_rew, reg_dic_manip_rew, key='lr_r2_scores')\n",
    "group2 = mh.means_per_group(group2)\n",
    "mh.plot_barchart(group1, group2, ['movement init','rew init'], title='Manip Movement vs Rew Init (-30->+60) LR r^2 '\n",
    "                 , label=['A', 'B', 'C', 'D', 'F', 'G', 'H', 'I', 'J', 'K'], ylim = [0,1])"
   ]
  },
  {
   "cell_type": "code",
   "execution_count": null,
   "metadata": {},
   "outputs": [],
   "source": [
    "\n",
    "mouse_IDs, group1 = mh.generate_groups_vector(m_ordered_sessions, reg_dic_manip_tight, key='lr_r2_scores')\n",
    "group1 = mh.means_per_group(group1)\n",
    "mouse_IDs, group2 = mh.generate_groups_vector(m_ordered_sessions_rew, reg_dic_manip_rew_tight, key='lr_r2_scores')\n",
    "group2 = mh.means_per_group(group2)\n",
    "mh.plot_barchart(group1, group2, ['movement init','rew init'], title='Manip Movement vs Rew Init (-10->+20) LR r^2 '\n",
    "                 , label=['A', 'B', 'C', 'D', 'F', 'G', 'H', 'I', 'J', 'K'], ylim = [0,1])"
   ]
  },
  {
   "cell_type": "markdown",
   "metadata": {},
   "source": [
    "### Cross time"
   ]
  },
  {
   "cell_type": "code",
   "execution_count": null,
   "metadata": {},
   "outputs": [],
   "source": [
    "mouse_IDs, group1 = mh.generate_groups_vector(manip_groups_dic['early'], reg_dic_manip, key='lr_r2_scores')\n",
    "group1 = mh.means_per_group(group1)\n",
    "mouse_IDs, group2 = mh.generate_groups_vector(manip_groups_dic['late'], reg_dic_manip, key='lr_r2_scores')\n",
    "group2 = mh.means_per_group(group2)\n",
    "mh.plot_barchart(group1, group2, ['manip early','manip late'], title='Manip - early vs late (-30->+60) LR r^2, EZ early vs EZ Late, '\n",
    "                 , label=['A', 'B', 'C', 'D', 'F', 'G', 'H', 'I', 'J', 'K'], ylim = [0,1])"
   ]
  },
  {
   "cell_type": "code",
   "execution_count": null,
   "metadata": {},
   "outputs": [],
   "source": [
    "mouse_IDs, group1 = mh.generate_groups_vector(wheel_groups_dic['ez_erly'], reg_dic_wheel, key='lr_r2_scores')\n",
    "group1 = mh.means_per_group(group1)\n",
    "mouse_IDs, group2 = mh.generate_groups_vector(wheel_groups_dic['ez_late'], reg_dic_wheel, key='lr_r2_scores')\n",
    "group2 = mh.means_per_group(group2)\n",
    "mh.plot_barchart(group1, group2, ['wheel ez early','wheel ez late'], title='Wheel - ez early vs late (-30->+60) LR r^2, EZ early vs EZ Late, '\n",
    "                 , label=['A', 'B', 'C', 'D', 'F', 'G', 'H', 'I', 'J', 'K'], ylim = [0,1])"
   ]
  },
  {
   "cell_type": "code",
   "execution_count": null,
   "metadata": {},
   "outputs": [],
   "source": [
    "mouse_IDs, group1 = mh.generate_groups_vector(wheel_groups_dic['hd_erly'], reg_dic_wheel, key='lr_r2_scores')\n",
    "group1 = mh.means_per_group(group1)\n",
    "mouse_IDs, group2 = mh.generate_groups_vector(wheel_groups_dic['hd_late'], reg_dic_wheel, key='lr_r2_scores')\n",
    "group2 = mh.means_per_group(group2)\n",
    "mh.plot_barchart(group1, group2, ['wheel Hard early','wheel Hard late'], title='Wheel - Hard early vs late (-30->+60) LR r^2'\n",
    "                 , label=['A', 'B', 'C', 'D', 'F', 'G', 'H', 'I', 'J', 'K'], ylim = [0,1])"
   ]
  },
  {
   "cell_type": "markdown",
   "metadata": {},
   "source": [
    "### Cross Controls"
   ]
  },
  {
   "cell_type": "code",
   "execution_count": null,
   "metadata": {},
   "outputs": [],
   "source": [
    "control_names = ['rand inits', 'scrambled trials', 'shifted trials','rand inits + scrambled', 'rand inits + shifting']\n",
    "for i,reg_dic_control in enumerate([reg_dic_manip_rc1,reg_dic_manip_rc2,reg_dic_manip_rc3,reg_dic_manip_rc4,reg_dic_manip_rc5]):\n",
    "    mouse_IDs, group1 = mh.generate_groups_vector(m_ordered_sessions, reg_dic_manip, key='lr_r2_scores')\n",
    "    group1_means = mh.means_per_group(group1)\n",
    "    mouse_IDs, group2 = mh.generate_groups_vector(m_ordered_sessions, reg_dic_control, key='lr_r2_scores')\n",
    "    group2_means = mh.means_per_group(group2)\n",
    "    mh.plot_barchart(group1_means, group2_means, ['manip','manip rc' + str(i+1)], title='Manip vs Control (-30->+60) LR r^2 -- ' + control_names[i], \n",
    "                    label=['A', 'B', 'C', 'D', 'F', 'G', 'H', 'I', 'J', 'K'], ylim=[0,1])\n",
    "\n",
    "    #group_manip_lr_r2, group_wheel_lr_r2"
   ]
  },
  {
   "cell_type": "code",
   "execution_count": null,
   "metadata": {},
   "outputs": [],
   "source": [
    "control_names = ['rand inits', 'scrambled trials', 'shifted trials','rand inits + scrambled', 'rand inits + shifting']\n",
    "for i,reg_dic_control in enumerate([reg_dic_wheel_rc1,reg_dic_wheel_rc2,reg_dic_wheel_rc3,reg_dic_wheel_rc4,reg_dic_wheel_rc5]):\n",
    "    mouse_IDs, group1 = mh.generate_groups_vector(w_ordered_sessions, reg_dic_wheel, key='lr_r2_scores')\n",
    "    group1_means = mh.means_per_group(group1)\n",
    "    mouse_IDs, group2 = mh.generate_groups_vector(w_ordered_sessions, reg_dic_control, key='lr_r2_scores')\n",
    "    group2_means = mh.means_per_group(group2)\n",
    "    mh.plot_barchart(group1_means, group2_means, ['Wheel','Wheel rc' + str(i+1)], title='Wheel vs Control (-30->+60) LR r^2 -- ' + control_names[i], \n",
    "                    label=['A', 'B', 'C', 'D', 'F', 'G', 'H', 'I', 'J', 'K'], ylim=[0,1])\n",
    "\n",
    "    #group_manip_lr_r2, group_wheel_lr_r2"
   ]
  },
  {
   "cell_type": "markdown",
   "metadata": {},
   "source": [
    "### Cross Trial Types"
   ]
  },
  {
   "cell_type": "code",
   "execution_count": null,
   "metadata": {},
   "outputs": [],
   "source": [
    "#Manip rew vs unrew\n",
    "startpoint = p_BACK_WINDOW - 30\n",
    "endpoint = p_BACK_WINDOW + 60\n",
    "reg_dic_manip_rewtrials = mu.regression_wrapper(startpoint, endpoint, manip_param_dic, m_ordered_sessions_rew, compressed_manip_cage, \n",
    "                                      stpt_label='', plot=False, save_flag=False, \n",
    "                                      photom_cube_type='default', trial_type='rewarded')\n",
    "reg_dic_manip_unrewtrials = mu.regression_wrapper(startpoint, endpoint, manip_param_dic, m_ordered_sessions_unrew, compressed_manip_cage, \n",
    "                                      stpt_label='', plot=False, save_flag=False, \n",
    "                                      photom_cube_type='default', trial_type='unrewarded')"
   ]
  },
  {
   "cell_type": "code",
   "execution_count": null,
   "metadata": {},
   "outputs": [],
   "source": [
    "mouse_IDs, group1 = mh.generate_groups_vector(m_ordered_sessions_rew, reg_dic_manip_rewtrials, key='lr_r2_scores')\n",
    "group1 = mh.means_per_group(group1)\n",
    "mouse_IDs, group2 = mh.generate_groups_vector(m_ordered_sessions_unrew, reg_dic_manip_unrewtrials, key='lr_r2_scores')\n",
    "group2 = mh.means_per_group(group2)\n",
    "mh.plot_barchart(group1, group2, ['Manip Rew Trials','Manip Unrew Trials'], title='Manip - Rew vs Unrew (-30->+60) LR r^2'\n",
    "                 , label=['A', 'B', 'C', 'D', 'F', 'G', 'H', 'I', 'J', 'K'], ylim = [0,1])"
   ]
  },
  {
   "cell_type": "code",
   "execution_count": null,
   "metadata": {},
   "outputs": [],
   "source": [
    "reg_dic_wheel_goodtrials = mu.regression_wrapper(startpoint, endpoint, wheel_param_dic, w_ordered_sessions_good, compressed_wheel_cage, \n",
    "                                      stpt_label='', plot=False, save_flag=False, \n",
    "                                      photom_cube_type='default', trial_type='good')\n",
    "reg_dic_wheel_badtrials = mu.regression_wrapper(startpoint, endpoint, wheel_param_dic, w_ordered_sessions_bad, compressed_wheel_cage, \n",
    "                                      stpt_label='', plot=False, save_flag=False, \n",
    "                                      photom_cube_type='default', trial_type='bad')"
   ]
  },
  {
   "cell_type": "code",
   "execution_count": null,
   "metadata": {},
   "outputs": [],
   "source": [
    "#Wheel rew vs unrew\n",
    "mouse_IDs, group1 = mh.generate_groups_vector(w_ordered_sessions_good, reg_dic_wheel_goodtrials, key='lr_r2_scores')\n",
    "group1 = mh.means_per_group(group1)\n",
    "mouse_IDs, group2 = mh.generate_groups_vector(w_ordered_sessions_bad, reg_dic_wheel_badtrials, key='lr_r2_scores')\n",
    "group2 = mh.means_per_group(group2)\n",
    "mh.plot_barchart(group1, group2, ['Wheel Good Trials','Wheel Bad Trials'], title='Wheel - Good vs Bad (-30->+60) LR r^2'\n",
    "                 , label=['A', 'B', 'C', 'D', 'F', 'G', 'H', 'I', 'J', 'K'], ylim = [0,1])"
   ]
  },
  {
   "cell_type": "markdown",
   "metadata": {},
   "source": [
    "## grouping and plotting: single reg corr"
   ]
  },
  {
   "cell_type": "code",
   "execution_count": null,
   "metadata": {},
   "outputs": [],
   "source": [
    "print(reg_dic_manip['RR20231108_A-2023_12_05']['sr_ref'])\n",
    "sr_ref = ['DCN-Thal', 'SNr-Thal', 'SNr-DCN']\n",
    "for i in range(len(sr_ref)):\n",
    "    reg_label = sr_ref[i]\n",
    "    mouse_IDs, group1 = mh.generate_groups_matrix(m_ordered_sessions, reg_dic_manip, col_ind=i, key='sr_r2_scores')\n",
    "    group1 = mh.means_per_group(group1)\n",
    "    mouse_IDs, group2 = mh.generate_groups_matrix(w_ordered_sessions, reg_dic_wheel, col_ind=i, key='sr_r2_scores')\n",
    "    group2 = mh.means_per_group(group2)\n",
    "    mh.plot_barchart(group1, group2, ['manip','wheel'], title='Manip vs Wheel (-10->+30) SR R^2: ' + reg_label + ' pval: ', \n",
    "                    label=['A', 'B', 'C', 'D', 'F', 'G', 'H', 'I', 'J', 'K'], ylim=[0,1])\n",
    "    "
   ]
  },
  {
   "cell_type": "code",
   "execution_count": null,
   "metadata": {},
   "outputs": [],
   "source": [
    "for mtime_z, wtime_z in zip(['early','late'],['ez_erly','ez_late']):\n",
    "    sr_ref = ['DCN-Thal', 'SNr-Thal', 'SNr-DCN']\n",
    "    for i in range(len(sr_ref)):\n",
    "        reg_label = sr_ref[i]\n",
    "        mouse_IDs, group1 = mh.generate_groups_matrix(manip_groups_dic[mtime_z], reg_dic_manip, col_ind=i, key='sr_r2_scores')\n",
    "        group1 = mh.means_per_group(group1)\n",
    "        mouse_IDs, group2 = mh.generate_groups_matrix(wheel_groups_dic[wtime_z], reg_dic_wheel, col_ind=i, key='sr_r2_scores')\n",
    "        group2 = mh.means_per_group(group2)\n",
    "        mh.plot_barchart(group1, group2, ['manip','wheel'], title=mtime_z + ', Manip vs Wheel (-10->+30) SR R^2: ' + reg_label + ' pval: ', \n",
    "                        label=['A', 'B', 'C', 'D', 'F', 'G', 'H', 'I', 'J', 'K'], ylim=[0,1])\n",
    "        "
   ]
  },
  {
   "cell_type": "markdown",
   "metadata": {},
   "source": [
    "## grouping and plotting: LR coeffs"
   ]
  },
  {
   "cell_type": "code",
   "execution_count": null,
   "metadata": {},
   "outputs": [],
   "source": [
    "print(reg_dic_manip['RR20231108_A-2023_12_05']['lr_coeffs_labels'])\n",
    "lr_coeffs_ref = ['DCN','SNr']\n",
    "for i in range(len(lr_coeffs_ref)):\n",
    "    reg_label = lr_coeffs_ref[i]\n",
    "    mouse_IDs, group1 = mh.generate_groups_matrix(m_ordered_sessions, reg_dic_manip, col_ind=i, key='lr_coeffs')\n",
    "    group1 = mh.means_per_group(group1)\n",
    "    mouse_IDs, group2 = mh.generate_groups_matrix(w_ordered_sessions, reg_dic_wheel, col_ind=i, key='lr_coeffs')\n",
    "    group2 = mh.means_per_group(group2)\n",
    "    mh.plot_barchart(group1, group2, ['manip','wheel'], title='Manip vs Wheel (-10->+30) LR coeff: ' + reg_label + ' pval: ', \n",
    "                    label=['A', 'B', 'C', 'D', 'F', 'G', 'H', 'I', 'J', 'K'], ylim=[-1,1])\n",
    "    "
   ]
  },
  {
   "cell_type": "markdown",
   "metadata": {},
   "source": [
    "# Random Cube Generation and metric compute"
   ]
  },
  {
   "cell_type": "code",
   "execution_count": null,
   "metadata": {},
   "outputs": [],
   "source": [
    "def gen_random_cube(sessname, cage, parameter_dic, oreg_list=[], shuffle_trials = False):\n",
    "    session = cage.sessions[sessname]\n",
    "    photom_df = session['photom_df']\n",
    "    day_dic = session['day_dic']\n",
    "    cube_dic, output_dic_keys = pph.random_cube_generate(photom_df, day_dic, oreg_list, parameter_dic, shuffle_trials=shuffle_trials,\n",
    "                                                         phot_coldic_override=None, p_BACK_WINDOW = 120, p_FORWARD_WINDOW = 120)\n",
    "    return cube_dic\n",
    "\n",
    "def gen_random_cage(cage, session_list, parameter_dic, oreg_list = [], shuffle_trials=False):\n",
    "    rand_cage = sessions_cage()\n",
    "    for sessname in session_list:\n",
    "        random_cube_dic = gen_random_cube(sessname, cage, parameter_dic, oreg_list=oreg_list, shuffle_trials=shuffle_trials)\n",
    "        cube_dic_name = 'rand_cube_dic_lowp_' + parameter_dic['name']\n",
    "        session = {cube_dic_name: random_cube_dic}\n",
    "        rand_cage.add_sess(sessname, session)\n",
    "    return rand_cage\n",
    "\n",
    "def free_up_memory(cage):\n",
    "    del cage\n",
    "    gc.collect()\n",
    "        "
   ]
  },
  {
   "cell_type": "code",
   "execution_count": null,
   "metadata": {},
   "outputs": [],
   "source": [
    "# generate random cage\n",
    "rand_manip_cage = gen_random_cage(compressed_manip_cage, m_ordered_sessions, manip_param_dic)\n",
    "\n",
    "# compute_metric wrt rand_cage\n",
    "startpoint = p_BACK_WINDOW - 30\n",
    "endpoint = p_BACK_WINDOW + 60\n",
    "reg_dic_manip_rand = mu.regression_wrapper(startpoint, endpoint, manip_param_dic, m_ordered_sessions, rand_manip_cage, \n",
    "                                      stpt_label='', plot=False, save_flag=False, photom_cube_type='control')\n",
    "\n",
    "# collect group means wrt reg_dic\n",
    "mouse_IDs, group_rm = mh.generate_groups_vector(m_ordered_sessions, reg_dic_manip_rand, key='lr_r2_scores')\n",
    "group_rm = mh.means_per_group(group_rm)\n",
    "\n",
    "# delete large objects and garbage collect\n",
    "del rand_manip_cage\n",
    "gc.collect()\n",
    "\n",
    "# optional \n",
    "# del reg_dic_manip_rand\n",
    "# gc.collect()"
   ]
  },
  {
   "cell_type": "code",
   "execution_count": null,
   "metadata": {},
   "outputs": [],
   "source": [
    "rand_wheel_cage = gen_random_cage(compressed_wheel_cage, w_ordered_sessions, wheel_param_dic)\n",
    "startpoint = p_BACK_WINDOW - 30\n",
    "endpoint = p_BACK_WINDOW + 60\n",
    "reg_dic_wheel_rand = mu.regression_wrapper(startpoint, endpoint, wheel_param_dic, w_ordered_sessions, rand_wheel_cage, \n",
    "                                      stpt_label='', plot=False, save_flag=False, photom_cube_type='control')\n",
    "mouse_IDs, group_rw = mh.generate_groups_vector(w_ordered_sessions, reg_dic_wheel_rand, key='lr_r2_scores')\n",
    "group_rw = mh.means_per_group(group_rw)\n",
    "del rand_wheel_cage\n",
    "gc.collect()"
   ]
  },
  {
   "cell_type": "code",
   "execution_count": null,
   "metadata": {},
   "outputs": [],
   "source": [
    "mh.plot_barchart(group1, group2, ['manip','wheel'], title='Manip vs Wheel (-10->+30) LR r^2', \n",
    "                 label=['A', 'B', 'C', 'D', 'F', 'G', 'H', 'I', 'J', 'K'], ylim=[0,1])"
   ]
  },
  {
   "cell_type": "markdown",
   "metadata": {},
   "source": [
    "# Bootstrapping"
   ]
  },
  {
   "cell_type": "markdown",
   "metadata": {},
   "source": [
    "## RC 1: Bootstrapping: rand trial inits"
   ]
  },
  {
   "cell_type": "code",
   "execution_count": null,
   "metadata": {},
   "outputs": [],
   "source": [
    "# this will save an ultra compressed cage (no behavioral info except wavedic)\n",
    "def random_cage_generate(compressed_cage, session_list, parameter_dic, cube_dic_key='zscores'):\n",
    "    \"\"\"_summary_\n",
    "        generate random cage using copied-over (with some slight mods) preprocess helper functions from bigrun in\n",
    "        preprocess_helper.py (pph)\n",
    "    Args:\n",
    "        cube_dic_key (str, optional): _description_. Defaults to 'zscores'.\n",
    "            if you don't change this to None, the random cage generated will just have all keys (just takes up more memory)\n",
    "\n",
    "    Returns:\n",
    "        _type_: _description_\n",
    "    \"\"\"\n",
    "    random_cage = sessions_cage()\n",
    "    for sessname in session_list:\n",
    "        session = compressed_cage.sessions[sessname]\n",
    "        \n",
    "        pc_override=None\n",
    "        if sessname == 'RR20240320_G-2024_05_07': # this is a wheel session\n",
    "            templis = ['CH1-470', 'CH1-410', 'Thal-470', 'Thal-410', 'DCN-470', 'DCN-410','SNr-470', 'SNr-410']\n",
    "            pc_override = {key: i for i,key in enumerate(templis)}\n",
    "            print(pc_override)\n",
    "        \n",
    "        oreg_list = [] #NOTE to richard. change this later when outliers have been determined for wheel too pls\n",
    "        cube_dic, output_dic_keys = pph.random_cube_generate(session['photom_df'], session['day_dic'], oreg_list, parameter_dic, phot_coldic_override=pc_override, p_BACK_WINDOW = 150, p_FORWARD_WINDOW = 150, shuffle_trials=False)\n",
    "        cube_dic_keep = {}\n",
    "        if cube_dic_key != None:\n",
    "            cube_dic_keep[cube_dic_key] = cube_dic[cube_dic_key]\n",
    "            new_session = {'cube_dic_lowp_'+parameter_dic['name']: cube_dic_keep}\n",
    "        else:\n",
    "            new_session = {'cube_dic_lowp_'+parameter_dic['name']: cube_dic}\n",
    "        random_cage.add_sess(sessname, new_session)\n",
    "    gc.collect()\n",
    "    return random_cage\n",
    "        "
   ]
  },
  {
   "cell_type": "code",
   "execution_count": null,
   "metadata": {},
   "outputs": [],
   "source": [
    "rc1_wheel_grouplis = []\n",
    "rc1_manip_grouplis = []\n",
    "\n",
    "for i in range(100):\n",
    "    random_wheel_cage = random_cage_generate(compressed_wheel_cage, w_ordered_sessions, wheel_param_dic, cube_dic_key='zscores')\n",
    "    reg_dic_wheel_rand_inits = mu.regression_wrapper(startpoint, endpoint, wheel_param_dic, w_ordered_sessions, random_wheel_cage,\n",
    "                                        stpt_label='', plot=False, save_flag=False, photom_cube_type='default')\n",
    "    mouse_IDs, group1 = mh.generate_groups_vector(w_ordered_sessions, reg_dic_wheel_rand_inits, key='lr_r2_scores')\n",
    "    group1 = mh.means_per_group(group1)\n",
    "    rc1_wheel_grouplis.append(group1)\n",
    "    del reg_dic_wheel_rand_inits\n",
    "    del random_wheel_cage\n",
    "    \n",
    "    random_manip_cage = random_cage_generate(compressed_manip_cage, m_ordered_sessions, manip_param_dic, cube_dic_key='zscores')\n",
    "    reg_dic_manip_rand_inits = mu.regression_wrapper(startpoint, endpoint, manip_param_dic, m_ordered_sessions, random_manip_cage,\n",
    "                                        stpt_label='', plot=False, save_flag=False, photom_cube_type='default')\n",
    "    mouse_IDs, group2 = mh.generate_groups_vector(m_ordered_sessions, reg_dic_manip_rand_inits, key='lr_r2_scores')\n",
    "    group2 = mh.means_per_group(group2)\n",
    "    rc1_manip_grouplis.append(group2)\n",
    "    del reg_dic_manip_rand_inits\n",
    "    del random_manip_cage\n",
    "    gc.collect()"
   ]
  },
  {
   "cell_type": "code",
   "execution_count": null,
   "metadata": {},
   "outputs": [],
   "source": [
    "# Save bootstrap data (this is important for the 10k run)\n",
    "\n",
    "filename_wheel_rc1 = 'rc1_bootstrap_100_wheel_data.pkl'\n",
    "filepath = datapath + '/misc_pickles' + '/' + filename_wheel_rc1\n",
    "with open(filepath, 'wb') as f:\n",
    "    pickle.dump(rc1_wheel_grouplis, f)\n",
    "f.close()\n",
    "\n",
    "filename_manip_rc1 = 'rc1_bootstrap_100_wheel_data.pkl'\n",
    "filepath = datapath + '/misc_pickles' + '/' + filename_manip_rc1\n",
    "with open(filepath, 'wb') as f:\n",
    "    pickle.dump(rc1_manip_grouplis, f)\n",
    "f.close()\n"
   ]
  },
  {
   "cell_type": "code",
   "execution_count": null,
   "metadata": {},
   "outputs": [],
   "source": [
    "# def bootstrap_hist(control_arr, exp_group, title=''):\n",
    "mh.bootstrap_hist(rc1_wheel_grouplis, group_wheel_lr_r2, title='Wheel RC1 (random inits) : 100 iter')"
   ]
  },
  {
   "cell_type": "code",
   "execution_count": null,
   "metadata": {},
   "outputs": [],
   "source": [
    "mh.bootstrap_hist(rc1_manip_grouplis, group_manip_lr_r2, title='Manip RC1 (random inits) : 100 iter')"
   ]
  },
  {
   "cell_type": "markdown",
   "metadata": {},
   "source": [
    "## RC 3: Bootstrapping: Rand shifts (Exp vs Nobehav_Shtrial)"
   ]
  },
  {
   "cell_type": "code",
   "execution_count": null,
   "metadata": {},
   "outputs": [],
   "source": [
    "wshifts_grouplis = []\n",
    "mshifts_grouplis = []\n",
    "for i in range(1000):\n",
    "    reg_dic_manip_shifts = mu.regression_wrapper(startpoint, endpoint, manip_param_dic, m_ordered_sessions, compressed_manip_cage,\n",
    "                                                random_adjusts=True,\n",
    "                                        stpt_label='', plot=False, save_flag=False, photom_cube_type='default')\n",
    "    reg_dic_wheel_shifts = mu.regression_wrapper(startpoint, endpoint, wheel_param_dic, w_ordered_sessions, compressed_wheel_cage,\n",
    "                                                random_adjusts=True,\n",
    "                                        stpt_label='', plot=False, save_flag=False, photom_cube_type='default')\n",
    "    \n",
    "    mouse_IDs, group1 = mh.generate_groups_vector(w_ordered_sessions, reg_dic_wheel_shifts, key='lr_r2_scores')\n",
    "    group1 = mh.means_per_group(group1)\n",
    "    wshifts_grouplis.append(group1)\n",
    "    mouse_IDs, group2 = mh.generate_groups_vector(m_ordered_sessions, reg_dic_manip_shifts, key='lr_r2_scores')\n",
    "    group2 = mh.means_per_group(group2)\n",
    "    mshifts_grouplis.append(group2)\n",
    "    del reg_dic_manip_shifts\n",
    "    del reg_dic_wheel_shifts\n",
    "    gc.collect()\n"
   ]
  },
  {
   "cell_type": "code",
   "execution_count": null,
   "metadata": {},
   "outputs": [],
   "source": [
    "# Save bootstrap data (this is important for the 10k run)\n",
    "\n",
    "filename_wheelshifts = 'wheel_shifts_1000_list.pkl'\n",
    "filepath = datapath + '/misc_pickles' + '/' + filename_wheelshifts\n",
    "with open(filepath, 'wb') as f:\n",
    "    pickle.dump(wshifts_grouplis, f)\n",
    "f.close()\n",
    "\n",
    "filename_manipshifts = 'manip_shifts_1000_list.pkl'\n",
    "filepath = datapath + '/misc_pickles' + '/' + filename_manipshifts\n",
    "with open(filepath, 'wb') as f:\n",
    "    pickle.dump(mshifts_grouplis, f)\n",
    "f.close()\n"
   ]
  },
  {
   "cell_type": "code",
   "execution_count": null,
   "metadata": {},
   "outputs": [],
   "source": [
    "# Reload bootstrap data\n",
    "\n",
    "filename_manipshifts = 'manip_shifts_1000_list.pkl'\n",
    "filepath = datapath + '/misc_pickles' + '/' + filename_manipshifts\n",
    "with open(filepath, 'rb') as f:\n",
    "    loaded_mps = pickle.load(f) # deserialize using load()\n",
    "f.close()\n",
    "\n",
    "filename_wheelshifts = 'wheel_shifts_1000_list.pkl'\n",
    "filepath = datapath + '/misc_pickles' + '/' + filename_wheelshifts\n",
    "with open(filepath, 'rb') as f:\n",
    "    loaded_wps = pickle.load(f) # deserialize using load()\n",
    "f.close()"
   ]
  },
  {
   "cell_type": "code",
   "execution_count": null,
   "metadata": {},
   "outputs": [],
   "source": [
    "\n",
    "    \n",
    "mshifts_arr = np.array(mshifts_grouplis)\n",
    "mh.bootstrap_hist(mshifts_arr, group_manip_lr_r2, title='manip exp vs shifts bootstrap (1000 iter)')"
   ]
  },
  {
   "cell_type": "code",
   "execution_count": null,
   "metadata": {},
   "outputs": [],
   "source": [
    "wshifts_arr = np.array(wshifts_grouplis)\n",
    "bootstrap_hist(wshifts_arr, group_wheel_lr_r2, title='wheel exp vs shifts bootstrap (1000 iter)')\n",
    "\n",
    "#group_manip_lr_r2, group_wheel_lr_r2"
   ]
  },
  {
   "cell_type": "markdown",
   "metadata": {},
   "source": [
    "# Mutual Information Pipeline"
   ]
  },
  {
   "cell_type": "code",
   "execution_count": null,
   "metadata": {},
   "outputs": [],
   "source": [
    "startpoint = p_BACK_WINDOW - 30\n",
    "endpoint = p_BACK_WINDOW + 60\n",
    "\n",
    "mi_dic_manip = mu.gen_mi_dic(startpoint, endpoint, manip_param_dic, m_ordered_sessions, compressed_manip_cage, \n",
    "                                    photom_cube_type='default')\n",
    "mi_dic_wheel = mu.gen_mi_dic(startpoint, endpoint, wheel_param_dic, w_ordered_sessions, compressed_wheel_cage,\n",
    "                                    photom_cube_type='default')"
   ]
  },
  {
   "cell_type": "code",
   "execution_count": null,
   "metadata": {},
   "outputs": [],
   "source": [
    "mouse_IDs, group1 = mh.generate_groups_vector(m_ordered_sessions, mi_dic_manip, key='dcn_mi')\n",
    "group_manip_dcn_mi = mh.means_per_group(group1)\n",
    "mouse_IDs, group2 = mh.generate_groups_vector(w_ordered_sessions, mi_dic_wheel, key='dcn_mi')\n",
    "group_wheel_dcn_mi = mh.means_per_group(group2)\n",
    "mh.plot_barchart(group_manip_lr_r2, group_wheel_lr_r2, ['manip','wheel'], title='Manip vs Wheel (-30->+60) dcn_MI', \n",
    "                 label=['A', 'B', 'C', 'D', 'F', 'G', 'H', 'I', 'J', 'K'], ylim=[0,1])\n",
    "\n",
    "#group_manip_lr_r2, group_wheel_lr_r2"
   ]
  },
  {
   "cell_type": "code",
   "execution_count": null,
   "metadata": {},
   "outputs": [],
   "source": [
    "mouse_IDs, group1 = mh.generate_groups_vector(m_ordered_sessions, mi_dic_manip, key='snr_mi')\n",
    "group_manip_dcn_mi = mh.means_per_group(group1)\n",
    "mouse_IDs, group2 = mh.generate_groups_vector(w_ordered_sessions, mi_dic_wheel, key='snr_mi')\n",
    "group_wheel_dcn_mi = mh.means_per_group(group2)\n",
    "mh.plot_barchart(group_manip_lr_r2, group_wheel_lr_r2, ['manip','wheel'], title='Manip vs Wheel (-30->+60) snr_MI', \n",
    "                 label=['A', 'B', 'C', 'D', 'F', 'G', 'H', 'I', 'J', 'K'], ylim=[0,1])\n",
    "\n",
    "#group_manip_lr_r2, group_wheel_lr_r2"
   ]
  },
  {
   "cell_type": "markdown",
   "metadata": {},
   "source": [
    "# Peaks characterization"
   ]
  },
  {
   "cell_type": "code",
   "execution_count": null,
   "metadata": {},
   "outputs": [],
   "source": [
    "startpoint = p_BACK_WINDOW - 30\n",
    "endpoint = p_BACK_WINDOW + 60\n",
    "peaks_dic_manip = mu.gen_peaks_dic(startpoint, endpoint, manip_param_dic, m_ordered_sessions, compressed_manip_cage, \n",
    "                                      photom_cube_type='default')\n",
    "peaks_dic_wheel = mu.gen_peaks_dic(startpoint, endpoint, wheel_param_dic, w_ordered_sessions, compressed_wheel_cage,\n",
    "                                    photom_cube_type='default')"
   ]
  },
  {
   "cell_type": "code",
   "execution_count": null,
   "metadata": {},
   "outputs": [],
   "source": [
    "reg = ['ch1','dcn','thal','snr']\n",
    "for i in range(4):\n",
    "    mouse_IDs, group1 = mh.generate_groups_matrix(m_ordered_sessions, peaks_dic_manip, col_ind=i, key='peaks')\n",
    "    group_manip_peaks = mh.means_per_group(group1)\n",
    "    mouse_IDs, group2 = mh.generate_groups_matrix(w_ordered_sessions, peaks_dic_wheel, col_ind=i, key='peaks')\n",
    "    # mouse_IDs, group2 = mh.generate_groups_vector(w_ordered_sessions, mi_dic_wheel, key='dcn_mi')\n",
    "    group_wheel_peaks = mh.means_per_group(group2)\n",
    "    mh.plot_barchart(group_manip_peaks, group_wheel_peaks, ['manip','wheel'], title='PEAKS: ' + reg[i] + ' Manip vs Wheel (-30->+60)', \n",
    "                    label=['A', 'B', 'C', 'D', 'F', 'G', 'H', 'I', 'J', 'K'])\n",
    "\n",
    "#group_manip_lr_r2, group_wheel_lr_r2"
   ]
  },
  {
   "cell_type": "code",
   "execution_count": null,
   "metadata": {},
   "outputs": [],
   "source": [
    "reg = ['ch1','dcn','thal','snr']\n",
    "for i in range(4):\n",
    "    mouse_IDs, group1 = mh.generate_groups_matrix(manip_groups_dic['early'], peaks_dic_manip, col_ind=i, key='peaks')\n",
    "    group_manip_peaks_early = mh.means_per_group(group1)\n",
    "    mouse_IDs, group2 = mh.generate_groups_matrix(manip_groups_dic['late'], peaks_dic_manip, col_ind=i, key='peaks')\n",
    "    # mouse_IDs, group2 = mh.generate_groups_vector(w_ordered_sessions, mi_dic_wheel, key='dcn_mi')\n",
    "    group_manip_peaks_late = mh.means_per_group(group2)\n",
    "    mh.plot_barchart(group_manip_peaks_early, group_manip_peaks_late, ['early','late'], title='PEAKS: ' + reg[i] + ' Manip early vs late (-30->+60)', \n",
    "                    label=['A', 'B', 'C', 'D', 'F', 'G', 'H', 'I', 'J', 'K'])\n",
    "\n",
    "#group_manip_lr_r2, group_wheel_lr_r2"
   ]
  }
 ],
 "metadata": {
  "kernelspec": {
   "display_name": "base",
   "language": "python",
   "name": "python3"
  },
  "language_info": {
   "codemirror_mode": {
    "name": "ipython",
    "version": 3
   },
   "file_extension": ".py",
   "mimetype": "text/x-python",
   "name": "python",
   "nbconvert_exporter": "python",
   "pygments_lexer": "ipython3",
   "version": "3.9.12"
  }
 },
 "nbformat": 4,
 "nbformat_minor": 2
}
